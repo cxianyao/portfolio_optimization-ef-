{
  "nbformat": 4,
  "nbformat_minor": 0,
  "metadata": {
    "colab": {
      "name": "Portfolio_optimization(ef).ipynb",
      "provenance": [],
      "collapsed_sections": [],
      "authorship_tag": "ABX9TyMqdTcZRrBbzxgu7FEp8tDu",
      "include_colab_link": true
    },
    "kernelspec": {
      "name": "python3",
      "display_name": "Python 3"
    }
  },
  "cells": [
    {
      "cell_type": "markdown",
      "metadata": {
        "id": "view-in-github",
        "colab_type": "text"
      },
      "source": [
        "<a href=\"https://colab.research.google.com/github/xy9012/portfolio_optimization-ef-/blob/main/Portfolio_optimization(ef).ipynb\" target=\"_parent\"><img src=\"https://colab.research.google.com/assets/colab-badge.svg\" alt=\"Open In Colab\"/></a>"
      ]
    },
    {
      "cell_type": "code",
      "metadata": {
        "id": "Pn8DweRqnGAG"
      },
      "source": [
        "#Description: This program attempts to optimize a users portfolio using efficient frontier"
      ],
      "execution_count": 1,
      "outputs": []
    },
    {
      "cell_type": "code",
      "metadata": {
        "id": "mhJO_cPqnPBt"
      },
      "source": [
        "#Import the python libraries\n",
        "from pandas_datareader import data as web\n",
        "import pandas as pd\n",
        "import numpy as np\n",
        "from datetime import datetime\n",
        "import matplotlib.pyplot as plt\n",
        "plt.style.use('fivethirtyeight')"
      ],
      "execution_count": 1,
      "outputs": []
    },
    {
      "cell_type": "code",
      "metadata": {
        "id": "oedZhPrLnuo3"
      },
      "source": [
        "#Get the stock symbols/stickers in the portfolio\n",
        "#FAANG\n",
        "assets = ['FB','AMZN','AAPL','NFLX','GOOG']"
      ],
      "execution_count": 2,
      "outputs": []
    },
    {
      "cell_type": "code",
      "metadata": {
        "id": "fm0Y4iPZoJR-"
      },
      "source": [
        "#Assign weights to the stocks\n",
        "weights = np.array([0.2,0.2,0.2,0.2,0.2])"
      ],
      "execution_count": 3,
      "outputs": []
    },
    {
      "cell_type": "code",
      "metadata": {
        "id": "shibqfe1oYKn"
      },
      "source": [
        "#Get the portfolio starting date\n",
        "stockStartDate = '2013-01-01'"
      ],
      "execution_count": 4,
      "outputs": []
    },
    {
      "cell_type": "code",
      "metadata": {
        "colab": {
          "base_uri": "https://localhost:8080/",
          "height": 35
        },
        "id": "HUEP8PBWo2gW",
        "outputId": "5ad47471-517f-4e4a-a902-1bb6418025d7"
      },
      "source": [
        "#Get the stocks ending date (today)\n",
        "today = datetime.today().strftime('%Y-%m-%d')\n",
        "today"
      ],
      "execution_count": 7,
      "outputs": [
        {
          "output_type": "execute_result",
          "data": {
            "application/vnd.google.colaboratory.intrinsic+json": {
              "type": "string"
            },
            "text/plain": [
              "'2020-11-23'"
            ]
          },
          "metadata": {
            "tags": []
          },
          "execution_count": 7
        }
      ]
    },
    {
      "cell_type": "code",
      "metadata": {
        "id": "INy_mgLJpQI6"
      },
      "source": [
        "#Create a dataframe to store the adjusted close price of the stocks\n",
        "df = pd.DataFrame()\n",
        "\n",
        "#Store the adjusted close price of te stock in to the df\n",
        "for stock in assets:\n",
        "  df[stock] = web.DataReader(stock, data_source='yahoo', start = stockStartDate, end = today)['Adj Close']"
      ],
      "execution_count": 9,
      "outputs": []
    },
    {
      "cell_type": "code",
      "metadata": {
        "colab": {
          "base_uri": "https://localhost:8080/",
          "height": 450
        },
        "id": "Rx3g3np1p5--",
        "outputId": "fb06a93c-5e4d-4a87-9257-775f328cd997"
      },
      "source": [
        "#Show the df\n",
        "df"
      ],
      "execution_count": 10,
      "outputs": [
        {
          "output_type": "execute_result",
          "data": {
            "text/html": [
              "<div>\n",
              "<style scoped>\n",
              "    .dataframe tbody tr th:only-of-type {\n",
              "        vertical-align: middle;\n",
              "    }\n",
              "\n",
              "    .dataframe tbody tr th {\n",
              "        vertical-align: top;\n",
              "    }\n",
              "\n",
              "    .dataframe thead th {\n",
              "        text-align: right;\n",
              "    }\n",
              "</style>\n",
              "<table border=\"1\" class=\"dataframe\">\n",
              "  <thead>\n",
              "    <tr style=\"text-align: right;\">\n",
              "      <th></th>\n",
              "      <th>FB</th>\n",
              "      <th>AMZN</th>\n",
              "      <th>AAPL</th>\n",
              "      <th>NFLX</th>\n",
              "      <th>GOOG</th>\n",
              "    </tr>\n",
              "    <tr>\n",
              "      <th>Date</th>\n",
              "      <th></th>\n",
              "      <th></th>\n",
              "      <th></th>\n",
              "      <th></th>\n",
              "      <th></th>\n",
              "    </tr>\n",
              "  </thead>\n",
              "  <tbody>\n",
              "    <tr>\n",
              "      <th>2013-01-02</th>\n",
              "      <td>28.000000</td>\n",
              "      <td>257.309998</td>\n",
              "      <td>16.926661</td>\n",
              "      <td>13.144286</td>\n",
              "      <td>360.274597</td>\n",
              "    </tr>\n",
              "    <tr>\n",
              "      <th>2013-01-03</th>\n",
              "      <td>27.770000</td>\n",
              "      <td>258.480011</td>\n",
              "      <td>16.713015</td>\n",
              "      <td>13.798572</td>\n",
              "      <td>360.483826</td>\n",
              "    </tr>\n",
              "    <tr>\n",
              "      <th>2013-01-04</th>\n",
              "      <td>28.760000</td>\n",
              "      <td>259.149994</td>\n",
              "      <td>16.247477</td>\n",
              "      <td>13.711429</td>\n",
              "      <td>367.607117</td>\n",
              "    </tr>\n",
              "    <tr>\n",
              "      <th>2013-01-07</th>\n",
              "      <td>29.420000</td>\n",
              "      <td>268.459991</td>\n",
              "      <td>16.151909</td>\n",
              "      <td>14.171429</td>\n",
              "      <td>366.003143</td>\n",
              "    </tr>\n",
              "    <tr>\n",
              "      <th>2013-01-08</th>\n",
              "      <td>29.059999</td>\n",
              "      <td>266.380005</td>\n",
              "      <td>16.195379</td>\n",
              "      <td>13.880000</td>\n",
              "      <td>365.280823</td>\n",
              "    </tr>\n",
              "    <tr>\n",
              "      <th>...</th>\n",
              "      <td>...</td>\n",
              "      <td>...</td>\n",
              "      <td>...</td>\n",
              "      <td>...</td>\n",
              "      <td>...</td>\n",
              "    </tr>\n",
              "    <tr>\n",
              "      <th>2020-11-17</th>\n",
              "      <td>275.000000</td>\n",
              "      <td>3135.659912</td>\n",
              "      <td>119.389999</td>\n",
              "      <td>480.630005</td>\n",
              "      <td>1770.150024</td>\n",
              "    </tr>\n",
              "    <tr>\n",
              "      <th>2020-11-18</th>\n",
              "      <td>271.970001</td>\n",
              "      <td>3105.459961</td>\n",
              "      <td>118.029999</td>\n",
              "      <td>481.790009</td>\n",
              "      <td>1746.780029</td>\n",
              "    </tr>\n",
              "    <tr>\n",
              "      <th>2020-11-19</th>\n",
              "      <td>272.940002</td>\n",
              "      <td>3117.020020</td>\n",
              "      <td>118.639999</td>\n",
              "      <td>484.670013</td>\n",
              "      <td>1763.920044</td>\n",
              "    </tr>\n",
              "    <tr>\n",
              "      <th>2020-11-20</th>\n",
              "      <td>269.700012</td>\n",
              "      <td>3099.399902</td>\n",
              "      <td>117.339996</td>\n",
              "      <td>488.239990</td>\n",
              "      <td>1742.189941</td>\n",
              "    </tr>\n",
              "    <tr>\n",
              "      <th>2020-11-23</th>\n",
              "      <td>266.635010</td>\n",
              "      <td>3104.379883</td>\n",
              "      <td>116.246002</td>\n",
              "      <td>482.765015</td>\n",
              "      <td>1732.680054</td>\n",
              "    </tr>\n",
              "  </tbody>\n",
              "</table>\n",
              "<p>1989 rows × 5 columns</p>\n",
              "</div>"
            ],
            "text/plain": [
              "                    FB         AMZN        AAPL        NFLX         GOOG\n",
              "Date                                                                    \n",
              "2013-01-02   28.000000   257.309998   16.926661   13.144286   360.274597\n",
              "2013-01-03   27.770000   258.480011   16.713015   13.798572   360.483826\n",
              "2013-01-04   28.760000   259.149994   16.247477   13.711429   367.607117\n",
              "2013-01-07   29.420000   268.459991   16.151909   14.171429   366.003143\n",
              "2013-01-08   29.059999   266.380005   16.195379   13.880000   365.280823\n",
              "...                ...          ...         ...         ...          ...\n",
              "2020-11-17  275.000000  3135.659912  119.389999  480.630005  1770.150024\n",
              "2020-11-18  271.970001  3105.459961  118.029999  481.790009  1746.780029\n",
              "2020-11-19  272.940002  3117.020020  118.639999  484.670013  1763.920044\n",
              "2020-11-20  269.700012  3099.399902  117.339996  488.239990  1742.189941\n",
              "2020-11-23  266.635010  3104.379883  116.246002  482.765015  1732.680054\n",
              "\n",
              "[1989 rows x 5 columns]"
            ]
          },
          "metadata": {
            "tags": []
          },
          "execution_count": 10
        }
      ]
    },
    {
      "cell_type": "code",
      "metadata": {
        "colab": {
          "base_uri": "https://localhost:8080/",
          "height": 301
        },
        "id": "amdaVRVrqZst",
        "outputId": "d52e7cbd-bef2-48ec-f943-22939d23d25f"
      },
      "source": [
        "#Visually show the stock/portfolio\n",
        "title = 'portfolio Adj. Close Price History'\n",
        "\n",
        "#Get the stocks\n",
        "my_stocks = df\n",
        "\n",
        "#Create and plot the graph\n",
        "for c in my_stocks.columns.values:\n",
        "  plt.plot(my_stocks[c],label = c)\n",
        "\n",
        "plt.title(title)\n",
        "plt.xlabel('Date', fontsize = 18)\n",
        "plt.ylabel('Adj. Price USD ($)', fontsize = 18)\n",
        "plt.legend(my_stocks.columns.values, loc = 'upper left')\n",
        "plt.show()\n"
      ],
      "execution_count": 11,
      "outputs": [
        {
          "output_type": "display_data",
          "data": {
            "image/png": "[encoded data removed]",
            "text/plain": [
              "<Figure size 432x288 with 1 Axes>"
            ]
          },
          "metadata": {
            "tags": [],
            "needs_background": "light"
          }
        }
      ]
    },
    {
      "cell_type": "code",
      "metadata": {
        "colab": {
          "base_uri": "https://localhost:8080/",
          "height": 450
        },
        "id": "WTWD7vq-re5T",
        "outputId": "0368203b-8148-4d61-8571-0f85a437199d"
      },
      "source": [
        "#Show the daily simple return\n",
        "returns = df.pct_change()\n",
        "returns"
      ],
      "execution_count": 12,
      "outputs": [
        {
          "output_type": "execute_result",
          "data": {
            "text/html": [
              "<div>\n",
              "<style scoped>\n",
              "    .dataframe tbody tr th:only-of-type {\n",
              "        vertical-align: middle;\n",
              "    }\n",
              "\n",
              "    .dataframe tbody tr th {\n",
              "        vertical-align: top;\n",
              "    }\n",
              "\n",
              "    .dataframe thead th {\n",
              "        text-align: right;\n",
              "    }\n",
              "</style>\n",
              "<table border=\"1\" class=\"dataframe\">\n",
              "  <thead>\n",
              "    <tr style=\"text-align: right;\">\n",
              "      <th></th>\n",
              "      <th>FB</th>\n",
              "      <th>AMZN</th>\n",
              "      <th>AAPL</th>\n",
              "      <th>NFLX</th>\n",
              "      <th>GOOG</th>\n",
              "    </tr>\n",
              "    <tr>\n",
              "      <th>Date</th>\n",
              "      <th></th>\n",
              "      <th></th>\n",
              "      <th></th>\n",
              "      <th></th>\n",
              "      <th></th>\n",
              "    </tr>\n",
              "  </thead>\n",
              "  <tbody>\n",
              "    <tr>\n",
              "      <th>2013-01-02</th>\n",
              "      <td>NaN</td>\n",
              "      <td>NaN</td>\n",
              "      <td>NaN</td>\n",
              "      <td>NaN</td>\n",
              "      <td>NaN</td>\n",
              "    </tr>\n",
              "    <tr>\n",
              "      <th>2013-01-03</th>\n",
              "      <td>-0.008214</td>\n",
              "      <td>0.004547</td>\n",
              "      <td>-0.012622</td>\n",
              "      <td>0.049777</td>\n",
              "      <td>0.000581</td>\n",
              "    </tr>\n",
              "    <tr>\n",
              "      <th>2013-01-04</th>\n",
              "      <td>0.035650</td>\n",
              "      <td>0.002592</td>\n",
              "      <td>-0.027855</td>\n",
              "      <td>-0.006315</td>\n",
              "      <td>0.019760</td>\n",
              "    </tr>\n",
              "    <tr>\n",
              "      <th>2013-01-07</th>\n",
              "      <td>0.022949</td>\n",
              "      <td>0.035925</td>\n",
              "      <td>-0.005882</td>\n",
              "      <td>0.033549</td>\n",
              "      <td>-0.004363</td>\n",
              "    </tr>\n",
              "    <tr>\n",
              "      <th>2013-01-08</th>\n",
              "      <td>-0.012237</td>\n",
              "      <td>-0.007748</td>\n",
              "      <td>0.002691</td>\n",
              "      <td>-0.020565</td>\n",
              "      <td>-0.001974</td>\n",
              "    </tr>\n",
              "    <tr>\n",
              "      <th>...</th>\n",
              "      <td>...</td>\n",
              "      <td>...</td>\n",
              "      <td>...</td>\n",
              "      <td>...</td>\n",
              "      <td>...</td>\n",
              "    </tr>\n",
              "    <tr>\n",
              "      <th>2020-11-17</th>\n",
              "      <td>-0.014196</td>\n",
              "      <td>0.001469</td>\n",
              "      <td>-0.007564</td>\n",
              "      <td>0.003193</td>\n",
              "      <td>-0.006304</td>\n",
              "    </tr>\n",
              "    <tr>\n",
              "      <th>2020-11-18</th>\n",
              "      <td>-0.011018</td>\n",
              "      <td>-0.009631</td>\n",
              "      <td>-0.011391</td>\n",
              "      <td>0.002414</td>\n",
              "      <td>-0.013202</td>\n",
              "    </tr>\n",
              "    <tr>\n",
              "      <th>2020-11-19</th>\n",
              "      <td>0.003567</td>\n",
              "      <td>0.003722</td>\n",
              "      <td>0.005168</td>\n",
              "      <td>0.005978</td>\n",
              "      <td>0.009812</td>\n",
              "    </tr>\n",
              "    <tr>\n",
              "      <th>2020-11-20</th>\n",
              "      <td>-0.011871</td>\n",
              "      <td>-0.005653</td>\n",
              "      <td>-0.010958</td>\n",
              "      <td>0.007366</td>\n",
              "      <td>-0.012319</td>\n",
              "    </tr>\n",
              "    <tr>\n",
              "      <th>2020-11-23</th>\n",
              "      <td>-0.011364</td>\n",
              "      <td>0.001607</td>\n",
              "      <td>-0.009323</td>\n",
              "      <td>-0.011214</td>\n",
              "      <td>-0.005459</td>\n",
              "    </tr>\n",
              "  </tbody>\n",
              "</table>\n",
              "<p>1989 rows × 5 columns</p>\n",
              "</div>"
            ],
            "text/plain": [
              "                  FB      AMZN      AAPL      NFLX      GOOG\n",
              "Date                                                        \n",
              "2013-01-02       NaN       NaN       NaN       NaN       NaN\n",
              "2013-01-03 -0.008214  0.004547 -0.012622  0.049777  0.000581\n",
              "2013-01-04  0.035650  0.002592 -0.027855 -0.006315  0.019760\n",
              "2013-01-07  0.022949  0.035925 -0.005882  0.033549 -0.004363\n",
              "2013-01-08 -0.012237 -0.007748  0.002691 -0.020565 -0.001974\n",
              "...              ...       ...       ...       ...       ...\n",
              "2020-11-17 -0.014196  0.001469 -0.007564  0.003193 -0.006304\n",
              "2020-11-18 -0.011018 -0.009631 -0.011391  0.002414 -0.013202\n",
              "2020-11-19  0.003567  0.003722  0.005168  0.005978  0.009812\n",
              "2020-11-20 -0.011871 -0.005653 -0.010958  0.007366 -0.012319\n",
              "2020-11-23 -0.011364  0.001607 -0.009323 -0.011214 -0.005459\n",
              "\n",
              "[1989 rows x 5 columns]"
            ]
          },
          "metadata": {
            "tags": []
          },
          "execution_count": 12
        }
      ]
    },
    {
      "cell_type": "code",
      "metadata": {
        "colab": {
          "base_uri": "https://localhost:8080/",
          "height": 204
        },
        "id": "nWAEXct1r02L",
        "outputId": "4622d956-597f-48ce-dfc9-cf87b480e460"
      },
      "source": [
        "#Create and show the annualized covariance matrix\n",
        "cov_matrix_annual = returns.cov() * 252\n",
        "cov_matrix_annual"
      ],
      "execution_count": 13,
      "outputs": [
        {
          "output_type": "execute_result",
          "data": {
            "text/html": [
              "<div>\n",
              "<style scoped>\n",
              "    .dataframe tbody tr th:only-of-type {\n",
              "        vertical-align: middle;\n",
              "    }\n",
              "\n",
              "    .dataframe tbody tr th {\n",
              "        vertical-align: top;\n",
              "    }\n",
              "\n",
              "    .dataframe thead th {\n",
              "        text-align: right;\n",
              "    }\n",
              "</style>\n",
              "<table border=\"1\" class=\"dataframe\">\n",
              "  <thead>\n",
              "    <tr style=\"text-align: right;\">\n",
              "      <th></th>\n",
              "      <th>FB</th>\n",
              "      <th>AMZN</th>\n",
              "      <th>AAPL</th>\n",
              "      <th>NFLX</th>\n",
              "      <th>GOOG</th>\n",
              "    </tr>\n",
              "  </thead>\n",
              "  <tbody>\n",
              "    <tr>\n",
              "      <th>FB</th>\n",
              "      <td>0.119544</td>\n",
              "      <td>0.055507</td>\n",
              "      <td>0.045029</td>\n",
              "      <td>0.056919</td>\n",
              "      <td>0.050707</td>\n",
              "    </tr>\n",
              "    <tr>\n",
              "      <th>AMZN</th>\n",
              "      <td>0.055507</td>\n",
              "      <td>0.094871</td>\n",
              "      <td>0.040062</td>\n",
              "      <td>0.063824</td>\n",
              "      <td>0.048177</td>\n",
              "    </tr>\n",
              "    <tr>\n",
              "      <th>AAPL</th>\n",
              "      <td>0.045029</td>\n",
              "      <td>0.040062</td>\n",
              "      <td>0.081807</td>\n",
              "      <td>0.035187</td>\n",
              "      <td>0.038829</td>\n",
              "    </tr>\n",
              "    <tr>\n",
              "      <th>NFLX</th>\n",
              "      <td>0.056919</td>\n",
              "      <td>0.063824</td>\n",
              "      <td>0.035187</td>\n",
              "      <td>0.212509</td>\n",
              "      <td>0.049059</td>\n",
              "    </tr>\n",
              "    <tr>\n",
              "      <th>GOOG</th>\n",
              "      <td>0.050707</td>\n",
              "      <td>0.048177</td>\n",
              "      <td>0.038829</td>\n",
              "      <td>0.049059</td>\n",
              "      <td>0.066411</td>\n",
              "    </tr>\n",
              "  </tbody>\n",
              "</table>\n",
              "</div>"
            ],
            "text/plain": [
              "            FB      AMZN      AAPL      NFLX      GOOG\n",
              "FB    0.119544  0.055507  0.045029  0.056919  0.050707\n",
              "AMZN  0.055507  0.094871  0.040062  0.063824  0.048177\n",
              "AAPL  0.045029  0.040062  0.081807  0.035187  0.038829\n",
              "NFLX  0.056919  0.063824  0.035187  0.212509  0.049059\n",
              "GOOG  0.050707  0.048177  0.038829  0.049059  0.066411"
            ]
          },
          "metadata": {
            "tags": []
          },
          "execution_count": 13
        }
      ]
    },
    {
      "cell_type": "code",
      "metadata": {
        "colab": {
          "base_uri": "https://localhost:8080/"
        },
        "id": "kzRVnYUfsPoy",
        "outputId": "514be22c-31e2-4969-8620-517d39c37d8c"
      },
      "source": [
        "#Calculate the portfolio variance\n",
        "port_variance = np.dot(weights.T, np.dot(cov_matrix_annual,weights))\n",
        "port_variance"
      ],
      "execution_count": 15,
      "outputs": [
        {
          "output_type": "execute_result",
          "data": {
            "text/plain": [
              "0.061669770059790505"
            ]
          },
          "metadata": {
            "tags": []
          },
          "execution_count": 15
        }
      ]
    },
    {
      "cell_type": "code",
      "metadata": {
        "colab": {
          "base_uri": "https://localhost:8080/"
        },
        "id": "7TzxTV2vtCn3",
        "outputId": "21229a89-c849-481a-bb8e-2ca9a23a1971"
      },
      "source": [
        "#Calculate the portfolio volatility aka standard deviation\n",
        "port_volatility = np.sqrt(port_variance)\n",
        "port_volatility"
      ],
      "execution_count": 16,
      "outputs": [
        {
          "output_type": "execute_result",
          "data": {
            "text/plain": [
              "0.24833398893383585"
            ]
          },
          "metadata": {
            "tags": []
          },
          "execution_count": 16
        }
      ]
    },
    {
      "cell_type": "code",
      "metadata": {
        "colab": {
          "base_uri": "https://localhost:8080/"
        },
        "id": "gGdY2OO4tS8P",
        "outputId": "899d764d-8f5e-4eab-acba-c4e4ecb6dd19"
      },
      "source": [
        "#Calculate the annual portfolio return\n",
        "portfolioSimpleAnnualReturn = np.sum(returns.mean()*weights)*252\n",
        "portfolioSimpleAnnualReturn"
      ],
      "execution_count": 17,
      "outputs": [
        {
          "output_type": "execute_result",
          "data": {
            "text/plain": [
              "0.35703066165589875"
            ]
          },
          "metadata": {
            "tags": []
          },
          "execution_count": 17
        }
      ]
    },
    {
      "cell_type": "code",
      "metadata": {
        "colab": {
          "base_uri": "https://localhost:8080/"
        },
        "id": "A890TTN2toJH",
        "outputId": "018f6608-e3a7-4e9a-9c2c-56058ec47de7"
      },
      "source": [
        "#Show the expected annual return, volatility (risk), and variance\n",
        "percent_var = str(round(port_variance,2)*100) + '%'\n",
        "percent_vols = str(round(port_volatility,2)*100) + '%'\n",
        "percent_ret = str(round(portfolioSimpleAnnualReturn,2)*100)+ '%'\n",
        "\n",
        "print('Expected annual return: ' + percent_ret)\n",
        "print('Annual volatility/risk: ' + percent_vols)\n",
        "print('Annual variance: ' + percent_var)"
      ],
      "execution_count": 19,
      "outputs": [
        {
          "output_type": "stream",
          "text": [
            "Expected annual return: 36.0%\n",
            "Annual volatility/risk: 25.0%\n",
            "Annual variance: 6.0%\n"
          ],
          "name": "stdout"
        }
      ]
    },
    {
      "cell_type": "code",
      "metadata": {
        "colab": {
          "base_uri": "https://localhost:8080/"
        },
        "id": "SruoNak3ur69",
        "outputId": "d883824c-8621-4c4e-99da-52281b5a1dd7"
      },
      "source": [
        "pip install PyPortfolioOpt"
      ],
      "execution_count": 21,
      "outputs": [
        {
          "output_type": "stream",
          "text": [
            "Requirement already satisfied: PyPortfolioOpt in /usr/local/lib/python3.6/dist-packages (1.2.7)\n",
            "Requirement already satisfied: scipy<2.0,>=1.3 in /usr/local/lib/python3.6/dist-packages (from PyPortfolioOpt) (1.4.1)\n",
            "Requirement already satisfied: pandas>=0.19 in /usr/local/lib/python3.6/dist-packages (from PyPortfolioOpt) (1.1.4)\n",
            "Requirement already satisfied: cvxpy<2.0,>=1.0 in /usr/local/lib/python3.6/dist-packages (from PyPortfolioOpt) (1.0.31)\n",
            "Requirement already satisfied: numpy<2.0,>=1.12 in /usr/local/lib/python3.6/dist-packages (from PyPortfolioOpt) (1.18.5)\n",
            "Requirement already satisfied: cvxopt<2.0,>=1.2 in /usr/local/lib/python3.6/dist-packages (from PyPortfolioOpt) (1.2.5)\n",
            "Requirement already satisfied: pytz>=2017.2 in /usr/local/lib/python3.6/dist-packages (from pandas>=0.19->PyPortfolioOpt) (2018.9)\n",
            "Requirement already satisfied: python-dateutil>=2.7.3 in /usr/local/lib/python3.6/dist-packages (from pandas>=0.19->PyPortfolioOpt) (2.8.1)\n",
            "Requirement already satisfied: multiprocess in /usr/local/lib/python3.6/dist-packages (from cvxpy<2.0,>=1.0->PyPortfolioOpt) (0.70.10)\n",
            "Requirement already satisfied: scs>=1.1.3 in /usr/local/lib/python3.6/dist-packages (from cvxpy<2.0,>=1.0->PyPortfolioOpt) (2.1.2)\n",
            "Requirement already satisfied: ecos>=2 in /usr/local/lib/python3.6/dist-packages (from cvxpy<2.0,>=1.0->PyPortfolioOpt) (2.0.7.post1)\n",
            "Requirement already satisfied: osqp>=0.4.1 in /usr/local/lib/python3.6/dist-packages (from cvxpy<2.0,>=1.0->PyPortfolioOpt) (0.6.1)\n",
            "Requirement already satisfied: six>=1.5 in /usr/local/lib/python3.6/dist-packages (from python-dateutil>=2.7.3->pandas>=0.19->PyPortfolioOpt) (1.15.0)\n",
            "Requirement already satisfied: dill>=0.3.2 in /usr/local/lib/python3.6/dist-packages (from multiprocess->cvxpy<2.0,>=1.0->PyPortfolioOpt) (0.3.3)\n",
            "Requirement already satisfied: future in /usr/local/lib/python3.6/dist-packages (from osqp>=0.4.1->cvxpy<2.0,>=1.0->PyPortfolioOpt) (0.16.0)\n"
          ],
          "name": "stdout"
        }
      ]
    },
    {
      "cell_type": "code",
      "metadata": {
        "id": "s8kD-edKu9pY"
      },
      "source": [
        "from pypfopt.efficient_frontier import EfficientFrontier\n",
        "from pypfopt import risk_models\n",
        "from pypfopt import expected_returns"
      ],
      "execution_count": 22,
      "outputs": []
    },
    {
      "cell_type": "code",
      "metadata": {
        "colab": {
          "base_uri": "https://localhost:8080/"
        },
        "id": "WhAAbp8PvMw9",
        "outputId": "a74f178f-9ef3-4aac-abed-24ee937b73e6"
      },
      "source": [
        "#Portfolio  Optimization\n",
        "\n",
        "#Calculate the expected returns and the anunualised sample covariance matrix of asset returns\n",
        "mu = expected_returns.mean_historical_return(df)\n",
        "S = risk_models.sample_cov(df)\n",
        "\n",
        "#Optimize for max sharpe ratio\n",
        "ef = EfficientFrontier(mu, S)\n",
        "weights = ef.max_sharpe()\n",
        "cleaned_weights = ef.clean_weights()\n",
        "print(cleaned_weights)\n",
        "ef.portfolio_performance(verbose = True)\n"
      ],
      "execution_count": 23,
      "outputs": [
        {
          "output_type": "stream",
          "text": [
            "OrderedDict([('FB', 0.0936), ('AMZN', 0.32016), ('AAPL', 0.24493), ('NFLX', 0.34131), ('GOOG', 0.0)])\n",
            "Expected annual return: 41.5%\n",
            "Annual volatility: 27.5%\n",
            "Sharpe Ratio: 1.44\n"
          ],
          "name": "stdout"
        },
        {
          "output_type": "execute_result",
          "data": {
            "text/plain": [
              "(0.4151647602821591, 0.27491519542900267, 1.4374060323057372)"
            ]
          },
          "metadata": {
            "tags": []
          },
          "execution_count": 23
        }
      ]
    },
    {
      "cell_type": "code",
      "metadata": {
        "colab": {
          "base_uri": "https://localhost:8080/"
        },
        "id": "KoHvAuAiwyPx",
        "outputId": "ed33b857-7004-480d-e279-2a34a1448050"
      },
      "source": [
        "0.0936 + 0.32016 + 0.24493 + 0.34131"
      ],
      "execution_count": 24,
      "outputs": [
        {
          "output_type": "execute_result",
          "data": {
            "text/plain": [
              "1.0"
            ]
          },
          "metadata": {
            "tags": []
          },
          "execution_count": 24
        }
      ]
    },
    {
      "cell_type": "code",
      "metadata": {
        "colab": {
          "base_uri": "https://localhost:8080/"
        },
        "id": "FgbtfRRfw8C3",
        "outputId": "90cc3ccc-4d29-4800-b357-50e14b7f3d2e"
      },
      "source": [
        "#Get the discrete allocation of each share per stock\n",
        "from pypfopt.discrete_allocation import DiscreteAllocation, get_latest_prices\n",
        "\n",
        "latest_prices =  get_latest_prices(df)\n",
        "weights = cleaned_weights\n",
        "da = DiscreteAllocation(weights, latest_prices, total_portfolio_value = 15000)\n",
        "\n",
        "allocation, leftover = da.lp_portfolio()\n",
        "print('Discret allocation: ', allocation)\n",
        "print('Fund Remaining: ${:.2F}'.format(leftover))"
      ],
      "execution_count": 27,
      "outputs": [
        {
          "output_type": "stream",
          "text": [
            "Discret allocation:  {'FB': 4, 'AMZN': 2, 'AAPL': 29, 'NFLX': 9}\n",
            "Fund Remaining: $8.68\n"
          ],
          "name": "stdout"
        }
      ]
    }
  ]
}